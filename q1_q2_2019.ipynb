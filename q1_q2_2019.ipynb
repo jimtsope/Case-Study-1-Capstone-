{
 "cells": [
  {
   "cell_type": "code",
   "execution_count": 1,
   "metadata": {},
   "outputs": [],
   "source": [
    "#import libraries\n",
    "import pandas as pd\n",
    "import numpy as np\n",
    "from datetime import datetime"
   ]
  },
  {
   "cell_type": "code",
   "execution_count": 2,
   "metadata": {},
   "outputs": [],
   "source": [
    "#read files\n",
    "q1 = pd.read_csv('Q1.csv')\n",
    "q2 = pd.read_csv('Q2.csv')"
   ]
  },
  {
   "cell_type": "code",
   "execution_count": 3,
   "metadata": {},
   "outputs": [
    {
     "data": {
      "text/html": [
       "<div>\n",
       "<style scoped>\n",
       "    .dataframe tbody tr th:only-of-type {\n",
       "        vertical-align: middle;\n",
       "    }\n",
       "\n",
       "    .dataframe tbody tr th {\n",
       "        vertical-align: top;\n",
       "    }\n",
       "\n",
       "    .dataframe thead th {\n",
       "        text-align: right;\n",
       "    }\n",
       "</style>\n",
       "<table border=\"1\" class=\"dataframe\">\n",
       "  <thead>\n",
       "    <tr style=\"text-align: right;\">\n",
       "      <th></th>\n",
       "      <th>trip_id</th>\n",
       "      <th>start_time</th>\n",
       "      <th>end_time</th>\n",
       "      <th>bikeid</th>\n",
       "      <th>tripduration</th>\n",
       "      <th>from_station_id</th>\n",
       "      <th>from_station_name</th>\n",
       "      <th>to_station_id</th>\n",
       "      <th>to_station_name</th>\n",
       "      <th>usertype</th>\n",
       "      <th>gender</th>\n",
       "      <th>birthyear</th>\n",
       "    </tr>\n",
       "  </thead>\n",
       "  <tbody>\n",
       "    <tr>\n",
       "      <th>0</th>\n",
       "      <td>21742443</td>\n",
       "      <td>2019-01-01 00:04:37</td>\n",
       "      <td>2019-01-01 00:11:07</td>\n",
       "      <td>2167</td>\n",
       "      <td>390.0</td>\n",
       "      <td>199</td>\n",
       "      <td>Wabash Ave &amp; Grand Ave</td>\n",
       "      <td>84</td>\n",
       "      <td>Milwaukee Ave &amp; Grand Ave</td>\n",
       "      <td>Subscriber</td>\n",
       "      <td>Male</td>\n",
       "      <td>1989.0</td>\n",
       "    </tr>\n",
       "    <tr>\n",
       "      <th>1</th>\n",
       "      <td>21742444</td>\n",
       "      <td>2019-01-01 00:08:13</td>\n",
       "      <td>2019-01-01 00:15:34</td>\n",
       "      <td>4386</td>\n",
       "      <td>441.0</td>\n",
       "      <td>44</td>\n",
       "      <td>State St &amp; Randolph St</td>\n",
       "      <td>624</td>\n",
       "      <td>Dearborn St &amp; Van Buren St (*)</td>\n",
       "      <td>Subscriber</td>\n",
       "      <td>Female</td>\n",
       "      <td>1990.0</td>\n",
       "    </tr>\n",
       "  </tbody>\n",
       "</table>\n",
       "</div>"
      ],
      "text/plain": [
       "    trip_id           start_time             end_time  bikeid tripduration  \\\n",
       "0  21742443  2019-01-01 00:04:37  2019-01-01 00:11:07    2167        390.0   \n",
       "1  21742444  2019-01-01 00:08:13  2019-01-01 00:15:34    4386        441.0   \n",
       "\n",
       "   from_station_id       from_station_name  to_station_id  \\\n",
       "0              199  Wabash Ave & Grand Ave             84   \n",
       "1               44  State St & Randolph St            624   \n",
       "\n",
       "                  to_station_name    usertype  gender  birthyear  \n",
       "0       Milwaukee Ave & Grand Ave  Subscriber    Male     1989.0  \n",
       "1  Dearborn St & Van Buren St (*)  Subscriber  Female     1990.0  "
      ]
     },
     "execution_count": 3,
     "metadata": {},
     "output_type": "execute_result"
    }
   ],
   "source": [
    "#quick view of Q1/2019\n",
    "q1.head(2)\n"
   ]
  },
  {
   "cell_type": "code",
   "execution_count": 4,
   "metadata": {},
   "outputs": [
    {
     "data": {
      "text/html": [
       "<div>\n",
       "<style scoped>\n",
       "    .dataframe tbody tr th:only-of-type {\n",
       "        vertical-align: middle;\n",
       "    }\n",
       "\n",
       "    .dataframe tbody tr th {\n",
       "        vertical-align: top;\n",
       "    }\n",
       "\n",
       "    .dataframe thead th {\n",
       "        text-align: right;\n",
       "    }\n",
       "</style>\n",
       "<table border=\"1\" class=\"dataframe\">\n",
       "  <thead>\n",
       "    <tr style=\"text-align: right;\">\n",
       "      <th></th>\n",
       "      <th>01 - Rental Details Rental ID</th>\n",
       "      <th>01 - Rental Details Local Start Time</th>\n",
       "      <th>01 - Rental Details Local End Time</th>\n",
       "      <th>01 - Rental Details Bike ID</th>\n",
       "      <th>01 - Rental Details Duration In Seconds Uncapped</th>\n",
       "      <th>03 - Rental Start Station ID</th>\n",
       "      <th>03 - Rental Start Station Name</th>\n",
       "      <th>02 - Rental End Station ID</th>\n",
       "      <th>02 - Rental End Station Name</th>\n",
       "      <th>User Type</th>\n",
       "      <th>Member Gender</th>\n",
       "      <th>05 - Member Details Member Birthday Year</th>\n",
       "    </tr>\n",
       "  </thead>\n",
       "  <tbody>\n",
       "    <tr>\n",
       "      <th>0</th>\n",
       "      <td>22178529</td>\n",
       "      <td>2019-04-01 00:02:22</td>\n",
       "      <td>2019-04-01 00:09:48</td>\n",
       "      <td>6251</td>\n",
       "      <td>446.0</td>\n",
       "      <td>81</td>\n",
       "      <td>Daley Center Plaza</td>\n",
       "      <td>56</td>\n",
       "      <td>Desplaines St &amp; Kinzie St</td>\n",
       "      <td>Subscriber</td>\n",
       "      <td>Male</td>\n",
       "      <td>1975.0</td>\n",
       "    </tr>\n",
       "    <tr>\n",
       "      <th>1</th>\n",
       "      <td>22178530</td>\n",
       "      <td>2019-04-01 00:03:02</td>\n",
       "      <td>2019-04-01 00:20:30</td>\n",
       "      <td>6226</td>\n",
       "      <td>1,048.0</td>\n",
       "      <td>317</td>\n",
       "      <td>Wood St &amp; Taylor St</td>\n",
       "      <td>59</td>\n",
       "      <td>Wabash Ave &amp; Roosevelt Rd</td>\n",
       "      <td>Subscriber</td>\n",
       "      <td>Female</td>\n",
       "      <td>1984.0</td>\n",
       "    </tr>\n",
       "  </tbody>\n",
       "</table>\n",
       "</div>"
      ],
      "text/plain": [
       "   01 - Rental Details Rental ID 01 - Rental Details Local Start Time  \\\n",
       "0                       22178529                  2019-04-01 00:02:22   \n",
       "1                       22178530                  2019-04-01 00:03:02   \n",
       "\n",
       "  01 - Rental Details Local End Time  01 - Rental Details Bike ID  \\\n",
       "0                2019-04-01 00:09:48                         6251   \n",
       "1                2019-04-01 00:20:30                         6226   \n",
       "\n",
       "  01 - Rental Details Duration In Seconds Uncapped  \\\n",
       "0                                            446.0   \n",
       "1                                          1,048.0   \n",
       "\n",
       "   03 - Rental Start Station ID 03 - Rental Start Station Name  \\\n",
       "0                            81             Daley Center Plaza   \n",
       "1                           317            Wood St & Taylor St   \n",
       "\n",
       "   02 - Rental End Station ID 02 - Rental End Station Name   User Type  \\\n",
       "0                          56    Desplaines St & Kinzie St  Subscriber   \n",
       "1                          59    Wabash Ave & Roosevelt Rd  Subscriber   \n",
       "\n",
       "  Member Gender  05 - Member Details Member Birthday Year  \n",
       "0          Male                                    1975.0  \n",
       "1        Female                                    1984.0  "
      ]
     },
     "execution_count": 4,
     "metadata": {},
     "output_type": "execute_result"
    }
   ],
   "source": [
    "#quick view of Q2/2019\n",
    "q2.head(2)"
   ]
  },
  {
   "cell_type": "code",
   "execution_count": 5,
   "metadata": {},
   "outputs": [],
   "source": [
    "#Rename Q2 columns\n",
    "q2.rename(columns={'01 - Rental Details Rental ID': 'trip_id', '01 - Rental Details Local Start Time': 'start_time','01 - Rental Details Local End Time': 'end_time','01 - Rental Details Bike ID': 'bikeid','01 - Rental Details Duration In Seconds Uncapped': 'tripduration','03 - Rental Start Station ID': 'from_station_id','03 - Rental Start Station Name': 'from_station_name','02 - Rental End Station ID': 'to_station_id','02 - Rental End Station Name': 'to_station_name','User Type':'usertype','Member Gender':'gender','05 - Member Details Member Birthday Year':'birthyear'}, inplace=True)"
   ]
  },
  {
   "cell_type": "code",
   "execution_count": 6,
   "metadata": {},
   "outputs": [],
   "source": [
    "#Then used the .concat() function to merge all the files into one table.\n",
    "fin = pd.concat([q1,q2],ignore_index=True,sort=True)"
   ]
  },
  {
   "cell_type": "code",
   "execution_count": 7,
   "metadata": {},
   "outputs": [
    {
     "data": {
      "text/html": [
       "<div>\n",
       "<style scoped>\n",
       "    .dataframe tbody tr th:only-of-type {\n",
       "        vertical-align: middle;\n",
       "    }\n",
       "\n",
       "    .dataframe tbody tr th {\n",
       "        vertical-align: top;\n",
       "    }\n",
       "\n",
       "    .dataframe thead th {\n",
       "        text-align: right;\n",
       "    }\n",
       "</style>\n",
       "<table border=\"1\" class=\"dataframe\">\n",
       "  <thead>\n",
       "    <tr style=\"text-align: right;\">\n",
       "      <th></th>\n",
       "      <th>bikeid</th>\n",
       "      <th>birthyear</th>\n",
       "      <th>end_time</th>\n",
       "      <th>from_station_id</th>\n",
       "      <th>from_station_name</th>\n",
       "      <th>gender</th>\n",
       "      <th>start_time</th>\n",
       "      <th>to_station_id</th>\n",
       "      <th>to_station_name</th>\n",
       "      <th>trip_id</th>\n",
       "      <th>tripduration</th>\n",
       "      <th>usertype</th>\n",
       "    </tr>\n",
       "  </thead>\n",
       "  <tbody>\n",
       "    <tr>\n",
       "      <th>0</th>\n",
       "      <td>2167</td>\n",
       "      <td>1989.0</td>\n",
       "      <td>2019-01-01 00:11:07</td>\n",
       "      <td>199</td>\n",
       "      <td>Wabash Ave &amp; Grand Ave</td>\n",
       "      <td>Male</td>\n",
       "      <td>2019-01-01 00:04:37</td>\n",
       "      <td>84</td>\n",
       "      <td>Milwaukee Ave &amp; Grand Ave</td>\n",
       "      <td>21742443</td>\n",
       "      <td>390.0</td>\n",
       "      <td>Subscriber</td>\n",
       "    </tr>\n",
       "    <tr>\n",
       "      <th>1</th>\n",
       "      <td>4386</td>\n",
       "      <td>1990.0</td>\n",
       "      <td>2019-01-01 00:15:34</td>\n",
       "      <td>44</td>\n",
       "      <td>State St &amp; Randolph St</td>\n",
       "      <td>Female</td>\n",
       "      <td>2019-01-01 00:08:13</td>\n",
       "      <td>624</td>\n",
       "      <td>Dearborn St &amp; Van Buren St (*)</td>\n",
       "      <td>21742444</td>\n",
       "      <td>441.0</td>\n",
       "      <td>Subscriber</td>\n",
       "    </tr>\n",
       "    <tr>\n",
       "      <th>2</th>\n",
       "      <td>1524</td>\n",
       "      <td>1994.0</td>\n",
       "      <td>2019-01-01 00:27:12</td>\n",
       "      <td>15</td>\n",
       "      <td>Racine Ave &amp; 18th St</td>\n",
       "      <td>Female</td>\n",
       "      <td>2019-01-01 00:13:23</td>\n",
       "      <td>644</td>\n",
       "      <td>Western Ave &amp; Fillmore St (*)</td>\n",
       "      <td>21742445</td>\n",
       "      <td>829.0</td>\n",
       "      <td>Subscriber</td>\n",
       "    </tr>\n",
       "    <tr>\n",
       "      <th>3</th>\n",
       "      <td>252</td>\n",
       "      <td>1993.0</td>\n",
       "      <td>2019-01-01 00:43:28</td>\n",
       "      <td>123</td>\n",
       "      <td>California Ave &amp; Milwaukee Ave</td>\n",
       "      <td>Male</td>\n",
       "      <td>2019-01-01 00:13:45</td>\n",
       "      <td>176</td>\n",
       "      <td>Clark St &amp; Elm St</td>\n",
       "      <td>21742446</td>\n",
       "      <td>1,783.0</td>\n",
       "      <td>Subscriber</td>\n",
       "    </tr>\n",
       "    <tr>\n",
       "      <th>4</th>\n",
       "      <td>1170</td>\n",
       "      <td>1994.0</td>\n",
       "      <td>2019-01-01 00:20:56</td>\n",
       "      <td>173</td>\n",
       "      <td>Mies van der Rohe Way &amp; Chicago Ave</td>\n",
       "      <td>Male</td>\n",
       "      <td>2019-01-01 00:14:52</td>\n",
       "      <td>35</td>\n",
       "      <td>Streeter Dr &amp; Grand Ave</td>\n",
       "      <td>21742447</td>\n",
       "      <td>364.0</td>\n",
       "      <td>Subscriber</td>\n",
       "    </tr>\n",
       "  </tbody>\n",
       "</table>\n",
       "</div>"
      ],
      "text/plain": [
       "   bikeid  birthyear             end_time  from_station_id  \\\n",
       "0    2167     1989.0  2019-01-01 00:11:07              199   \n",
       "1    4386     1990.0  2019-01-01 00:15:34               44   \n",
       "2    1524     1994.0  2019-01-01 00:27:12               15   \n",
       "3     252     1993.0  2019-01-01 00:43:28              123   \n",
       "4    1170     1994.0  2019-01-01 00:20:56              173   \n",
       "\n",
       "                     from_station_name  gender           start_time  \\\n",
       "0               Wabash Ave & Grand Ave    Male  2019-01-01 00:04:37   \n",
       "1               State St & Randolph St  Female  2019-01-01 00:08:13   \n",
       "2                 Racine Ave & 18th St  Female  2019-01-01 00:13:23   \n",
       "3       California Ave & Milwaukee Ave    Male  2019-01-01 00:13:45   \n",
       "4  Mies van der Rohe Way & Chicago Ave    Male  2019-01-01 00:14:52   \n",
       "\n",
       "   to_station_id                 to_station_name   trip_id tripduration  \\\n",
       "0             84       Milwaukee Ave & Grand Ave  21742443        390.0   \n",
       "1            624  Dearborn St & Van Buren St (*)  21742444        441.0   \n",
       "2            644   Western Ave & Fillmore St (*)  21742445        829.0   \n",
       "3            176               Clark St & Elm St  21742446      1,783.0   \n",
       "4             35         Streeter Dr & Grand Ave  21742447        364.0   \n",
       "\n",
       "     usertype  \n",
       "0  Subscriber  \n",
       "1  Subscriber  \n",
       "2  Subscriber  \n",
       "3  Subscriber  \n",
       "4  Subscriber  "
      ]
     },
     "execution_count": 7,
     "metadata": {},
     "output_type": "execute_result"
    }
   ],
   "source": [
    "#quick view of new table\n",
    "fin.head(5)"
   ]
  },
  {
   "cell_type": "code",
   "execution_count": 8,
   "metadata": {},
   "outputs": [
    {
     "data": {
      "text/plain": [
       "bikeid                    0\n",
       "birthyear            198976\n",
       "end_time                  0\n",
       "from_station_id           0\n",
       "from_station_name         0\n",
       "gender               205265\n",
       "start_time                0\n",
       "to_station_id             0\n",
       "to_station_name           0\n",
       "trip_id                   0\n",
       "tripduration              0\n",
       "usertype                  0\n",
       "dtype: int64"
      ]
     },
     "execution_count": 8,
     "metadata": {},
     "output_type": "execute_result"
    }
   ],
   "source": [
    "#check for missing values\n",
    "missing_values_count = fin.isnull().sum()\n",
    "missing_values_count[:]"
   ]
  },
  {
   "cell_type": "code",
   "execution_count": 9,
   "metadata": {},
   "outputs": [
    {
     "name": "stdout",
     "output_type": "stream",
     "text": [
      "<class 'pandas.core.frame.DataFrame'>\n",
      "RangeIndex: 1473232 entries, 0 to 1473231\n",
      "Data columns (total 12 columns):\n",
      "bikeid               1473232 non-null int64\n",
      "birthyear            1274256 non-null float64\n",
      "end_time             1473232 non-null object\n",
      "from_station_id      1473232 non-null int64\n",
      "from_station_name    1473232 non-null object\n",
      "gender               1267967 non-null object\n",
      "start_time           1473232 non-null object\n",
      "to_station_id        1473232 non-null int64\n",
      "to_station_name      1473232 non-null object\n",
      "trip_id              1473232 non-null int64\n",
      "tripduration         1473232 non-null object\n",
      "usertype             1473232 non-null object\n",
      "dtypes: float64(1), int64(4), object(7)\n",
      "memory usage: 95.5+ MB\n"
     ]
    }
   ],
   "source": [
    "#more information about fin\n",
    "fin.info()"
   ]
  },
  {
   "cell_type": "code",
   "execution_count": 10,
   "metadata": {},
   "outputs": [],
   "source": [
    "#Drop columns that wont be needed for the analysis.\n",
    "fin = fin.drop(columns=[\"bikeid\",\"birthyear\",\"from_station_id\",\"gender\",\"to_station_id\", \"to_station_name\",\"trip_id\",'tripduration'])"
   ]
  },
  {
   "cell_type": "code",
   "execution_count": 11,
   "metadata": {},
   "outputs": [
    {
     "name": "stdout",
     "output_type": "stream",
     "text": [
      "# of unique usertype: 2\n"
     ]
    }
   ],
   "source": [
    "# count distinct value of \"usertype\"\n",
    "unique_id = len(pd.unique(fin[\"usertype\"]))\n",
    "  \n",
    "print(\"# of unique usertype: \" + str(unique_id))"
   ]
  },
  {
   "cell_type": "code",
   "execution_count": 12,
   "metadata": {},
   "outputs": [],
   "source": [
    "#Remove duplicates\n",
    "#Drop missing values in columns where all info needs to be complete.\n",
    "fin = fin.drop_duplicates()\n",
    "fin = fin.dropna(subset=['end_time','start_time','usertype'])"
   ]
  },
  {
   "cell_type": "code",
   "execution_count": 13,
   "metadata": {},
   "outputs": [
    {
     "data": {
      "text/html": [
       "<div>\n",
       "<style scoped>\n",
       "    .dataframe tbody tr th:only-of-type {\n",
       "        vertical-align: middle;\n",
       "    }\n",
       "\n",
       "    .dataframe tbody tr th {\n",
       "        vertical-align: top;\n",
       "    }\n",
       "\n",
       "    .dataframe thead th {\n",
       "        text-align: right;\n",
       "    }\n",
       "</style>\n",
       "<table border=\"1\" class=\"dataframe\">\n",
       "  <thead>\n",
       "    <tr style=\"text-align: right;\">\n",
       "      <th></th>\n",
       "      <th>end_time</th>\n",
       "      <th>from_station_name</th>\n",
       "      <th>start_time</th>\n",
       "      <th>usertype</th>\n",
       "    </tr>\n",
       "  </thead>\n",
       "  <tbody>\n",
       "    <tr>\n",
       "      <th>0</th>\n",
       "      <td>2019-01-01 00:11:07</td>\n",
       "      <td>Wabash Ave &amp; Grand Ave</td>\n",
       "      <td>2019-01-01 00:04:37</td>\n",
       "      <td>Subscriber</td>\n",
       "    </tr>\n",
       "    <tr>\n",
       "      <th>1</th>\n",
       "      <td>2019-01-01 00:15:34</td>\n",
       "      <td>State St &amp; Randolph St</td>\n",
       "      <td>2019-01-01 00:08:13</td>\n",
       "      <td>Subscriber</td>\n",
       "    </tr>\n",
       "    <tr>\n",
       "      <th>2</th>\n",
       "      <td>2019-01-01 00:27:12</td>\n",
       "      <td>Racine Ave &amp; 18th St</td>\n",
       "      <td>2019-01-01 00:13:23</td>\n",
       "      <td>Subscriber</td>\n",
       "    </tr>\n",
       "    <tr>\n",
       "      <th>3</th>\n",
       "      <td>2019-01-01 00:43:28</td>\n",
       "      <td>California Ave &amp; Milwaukee Ave</td>\n",
       "      <td>2019-01-01 00:13:45</td>\n",
       "      <td>Subscriber</td>\n",
       "    </tr>\n",
       "    <tr>\n",
       "      <th>4</th>\n",
       "      <td>2019-01-01 00:20:56</td>\n",
       "      <td>Mies van der Rohe Way &amp; Chicago Ave</td>\n",
       "      <td>2019-01-01 00:14:52</td>\n",
       "      <td>Subscriber</td>\n",
       "    </tr>\n",
       "  </tbody>\n",
       "</table>\n",
       "</div>"
      ],
      "text/plain": [
       "              end_time                    from_station_name  \\\n",
       "0  2019-01-01 00:11:07               Wabash Ave & Grand Ave   \n",
       "1  2019-01-01 00:15:34               State St & Randolph St   \n",
       "2  2019-01-01 00:27:12                 Racine Ave & 18th St   \n",
       "3  2019-01-01 00:43:28       California Ave & Milwaukee Ave   \n",
       "4  2019-01-01 00:20:56  Mies van der Rohe Way & Chicago Ave   \n",
       "\n",
       "            start_time    usertype  \n",
       "0  2019-01-01 00:04:37  Subscriber  \n",
       "1  2019-01-01 00:08:13  Subscriber  \n",
       "2  2019-01-01 00:13:23  Subscriber  \n",
       "3  2019-01-01 00:13:45  Subscriber  \n",
       "4  2019-01-01 00:14:52  Subscriber  "
      ]
     },
     "execution_count": 13,
     "metadata": {},
     "output_type": "execute_result"
    }
   ],
   "source": [
    "fin.head()"
   ]
  },
  {
   "cell_type": "code",
   "execution_count": 14,
   "metadata": {},
   "outputs": [
    {
     "name": "stdout",
     "output_type": "stream",
     "text": [
      "<class 'pandas.core.frame.DataFrame'>\n",
      "Int64Index: 1471406 entries, 0 to 1473231\n",
      "Data columns (total 4 columns):\n",
      "end_time             1471406 non-null object\n",
      "from_station_name    1471406 non-null object\n",
      "start_time           1471406 non-null object\n",
      "usertype             1471406 non-null object\n",
      "dtypes: object(4)\n",
      "memory usage: 33.7+ MB\n"
     ]
    }
   ],
   "source": [
    "fin.info()"
   ]
  },
  {
   "cell_type": "code",
   "execution_count": 15,
   "metadata": {},
   "outputs": [],
   "source": [
    "#Used the .to_datetime() function to get the correct data type on the 'start_time' and 'end_time' columns to be able to make the new column 'ride_length'.\n",
    "fin['usertype'] = fin['usertype'].astype('category')\n",
    "fin['start_time'] = pd.to_datetime(fin['start_time'], format = \"%Y/%m/%d %H:%M:%S\")\n",
    "fin['end_time'] = pd.to_datetime(fin['end_time'], format = \"%Y/%m/%d %H:%M:%S\")\n",
    "\n",
    "fin['ride_length']= fin['end_time']-fin['start_time']"
   ]
  },
  {
   "cell_type": "code",
   "execution_count": 16,
   "metadata": {},
   "outputs": [],
   "source": [
    "#New columns made to analyse the bike rides by day of week and by month.\n",
    "fin['day_of_week'] = fin['start_time'].dt.day_name()\n",
    "fin['month'] = fin['start_time'].dt.month_name()"
   ]
  },
  {
   "cell_type": "code",
   "execution_count": 17,
   "metadata": {},
   "outputs": [
    {
     "data": {
      "text/html": [
       "<div>\n",
       "<style scoped>\n",
       "    .dataframe tbody tr th:only-of-type {\n",
       "        vertical-align: middle;\n",
       "    }\n",
       "\n",
       "    .dataframe tbody tr th {\n",
       "        vertical-align: top;\n",
       "    }\n",
       "\n",
       "    .dataframe thead th {\n",
       "        text-align: right;\n",
       "    }\n",
       "</style>\n",
       "<table border=\"1\" class=\"dataframe\">\n",
       "  <thead>\n",
       "    <tr style=\"text-align: right;\">\n",
       "      <th></th>\n",
       "      <th>end_time</th>\n",
       "      <th>from_station_name</th>\n",
       "      <th>start_time</th>\n",
       "      <th>usertype</th>\n",
       "      <th>ride_length</th>\n",
       "      <th>day_of_week</th>\n",
       "      <th>month</th>\n",
       "    </tr>\n",
       "  </thead>\n",
       "  <tbody>\n",
       "    <tr>\n",
       "      <th>0</th>\n",
       "      <td>2019-01-01 00:11:07</td>\n",
       "      <td>Wabash Ave &amp; Grand Ave</td>\n",
       "      <td>2019-01-01 00:04:37</td>\n",
       "      <td>Subscriber</td>\n",
       "      <td>00:06:30</td>\n",
       "      <td>Tuesday</td>\n",
       "      <td>January</td>\n",
       "    </tr>\n",
       "    <tr>\n",
       "      <th>1</th>\n",
       "      <td>2019-01-01 00:15:34</td>\n",
       "      <td>State St &amp; Randolph St</td>\n",
       "      <td>2019-01-01 00:08:13</td>\n",
       "      <td>Subscriber</td>\n",
       "      <td>00:07:21</td>\n",
       "      <td>Tuesday</td>\n",
       "      <td>January</td>\n",
       "    </tr>\n",
       "    <tr>\n",
       "      <th>2</th>\n",
       "      <td>2019-01-01 00:27:12</td>\n",
       "      <td>Racine Ave &amp; 18th St</td>\n",
       "      <td>2019-01-01 00:13:23</td>\n",
       "      <td>Subscriber</td>\n",
       "      <td>00:13:49</td>\n",
       "      <td>Tuesday</td>\n",
       "      <td>January</td>\n",
       "    </tr>\n",
       "    <tr>\n",
       "      <th>3</th>\n",
       "      <td>2019-01-01 00:43:28</td>\n",
       "      <td>California Ave &amp; Milwaukee Ave</td>\n",
       "      <td>2019-01-01 00:13:45</td>\n",
       "      <td>Subscriber</td>\n",
       "      <td>00:29:43</td>\n",
       "      <td>Tuesday</td>\n",
       "      <td>January</td>\n",
       "    </tr>\n",
       "    <tr>\n",
       "      <th>4</th>\n",
       "      <td>2019-01-01 00:20:56</td>\n",
       "      <td>Mies van der Rohe Way &amp; Chicago Ave</td>\n",
       "      <td>2019-01-01 00:14:52</td>\n",
       "      <td>Subscriber</td>\n",
       "      <td>00:06:04</td>\n",
       "      <td>Tuesday</td>\n",
       "      <td>January</td>\n",
       "    </tr>\n",
       "  </tbody>\n",
       "</table>\n",
       "</div>"
      ],
      "text/plain": [
       "             end_time                    from_station_name  \\\n",
       "0 2019-01-01 00:11:07               Wabash Ave & Grand Ave   \n",
       "1 2019-01-01 00:15:34               State St & Randolph St   \n",
       "2 2019-01-01 00:27:12                 Racine Ave & 18th St   \n",
       "3 2019-01-01 00:43:28       California Ave & Milwaukee Ave   \n",
       "4 2019-01-01 00:20:56  Mies van der Rohe Way & Chicago Ave   \n",
       "\n",
       "           start_time    usertype ride_length day_of_week    month  \n",
       "0 2019-01-01 00:04:37  Subscriber    00:06:30     Tuesday  January  \n",
       "1 2019-01-01 00:08:13  Subscriber    00:07:21     Tuesday  January  \n",
       "2 2019-01-01 00:13:23  Subscriber    00:13:49     Tuesday  January  \n",
       "3 2019-01-01 00:13:45  Subscriber    00:29:43     Tuesday  January  \n",
       "4 2019-01-01 00:14:52  Subscriber    00:06:04     Tuesday  January  "
      ]
     },
     "execution_count": 17,
     "metadata": {},
     "output_type": "execute_result"
    }
   ],
   "source": [
    "fin.head()"
   ]
  },
  {
   "cell_type": "code",
   "execution_count": 18,
   "metadata": {},
   "outputs": [],
   "source": [
    "fin['day_of_week'] = fin['day_of_week'].astype('category')\n",
    "fin['month'] = fin['month'].astype('category')"
   ]
  },
  {
   "cell_type": "code",
   "execution_count": 19,
   "metadata": {},
   "outputs": [
    {
     "name": "stdout",
     "output_type": "stream",
     "text": [
      "<class 'pandas.core.frame.DataFrame'>\n",
      "Int64Index: 1471406 entries, 0 to 1473231\n",
      "Data columns (total 7 columns):\n",
      "end_time             1471406 non-null datetime64[ns]\n",
      "from_station_name    1471406 non-null object\n",
      "start_time           1471406 non-null datetime64[ns]\n",
      "usertype             1471406 non-null category\n",
      "ride_length          1471406 non-null timedelta64[ns]\n",
      "day_of_week          1471406 non-null category\n",
      "month                1471406 non-null category\n",
      "dtypes: category(3), datetime64[ns](2), object(1), timedelta64[ns](1)\n",
      "memory usage: 54.7+ MB\n"
     ]
    }
   ],
   "source": [
    "fin.info()"
   ]
  },
  {
   "cell_type": "code",
   "execution_count": 20,
   "metadata": {},
   "outputs": [],
   "source": [
    "#convert timedeltadata to minutes(int)\n",
    "fin['minutes'] = fin['ride_length'] / pd.Timedelta(minutes=1)"
   ]
  },
  {
   "cell_type": "code",
   "execution_count": 21,
   "metadata": {},
   "outputs": [
    {
     "data": {
      "text/plain": [
       "20.842832093929374"
      ]
     },
     "execution_count": 21,
     "metadata": {},
     "output_type": "execute_result"
    }
   ],
   "source": [
    "#Calculate the mean of ride_length\n",
    "fin[\"minutes\"].mean()"
   ]
  },
  {
   "cell_type": "code",
   "execution_count": 22,
   "metadata": {},
   "outputs": [
    {
     "name": "stdout",
     "output_type": "stream",
     "text": [
      "123 days 01:20:22\n",
      "max duration in min: 177200.36666666667\n"
     ]
    }
   ],
   "source": [
    "#Calculate the max ride_length\n",
    "max_duration = fin[\"ride_length\"].max()\n",
    "max_durtionMin = fin[\"minutes\"].max()\n",
    "\n",
    "print(max_duration)\n",
    "print(\"max duration in min:\",max_durtionMin)"
   ]
  },
  {
   "cell_type": "code",
   "execution_count": 23,
   "metadata": {},
   "outputs": [
    {
     "data": {
      "text/plain": [
       "usertype\n",
       "Customer      49.629420\n",
       "Subscriber    14.003532\n",
       "Name: minutes, dtype: float64"
      ]
     },
     "execution_count": 23,
     "metadata": {},
     "output_type": "execute_result"
    }
   ],
   "source": [
    "#Calculate the average ride_length for members and casual riders. Try rows = member_casual; Values = Average of ride_length.\n",
    "\n",
    "fin.groupby(['usertype'])['minutes'].mean()"
   ]
  },
  {
   "cell_type": "code",
   "execution_count": 24,
   "metadata": {},
   "outputs": [
    {
     "data": {
      "text/plain": [
       "usertype    day_of_week\n",
       "Customer    Friday         48.482405\n",
       "            Monday         44.328840\n",
       "            Saturday       51.582802\n",
       "            Sunday         48.228441\n",
       "            Thursday       57.487119\n",
       "            Tuesday        47.521616\n",
       "            Wednesday      49.208212\n",
       "Subscriber  Friday         13.810275\n",
       "            Monday         14.186539\n",
       "            Saturday       15.716210\n",
       "            Sunday         15.983318\n",
       "            Thursday       13.178990\n",
       "            Tuesday        13.590650\n",
       "            Wednesday      13.311705\n",
       "Name: minutes, dtype: float64"
      ]
     },
     "execution_count": 24,
     "metadata": {},
     "output_type": "execute_result"
    }
   ],
   "source": [
    "#Calculate the average ride_length for users by day_of_week. Try columns = day_of_week; Rows = member_casual; Values = Average of ride_length.\n",
    "fin.groupby(['usertype','day_of_week'])['minutes'].mean()"
   ]
  },
  {
   "cell_type": "code",
   "execution_count": 25,
   "metadata": {},
   "outputs": [
    {
     "data": {
      "text/plain": [
       "usertype    month   \n",
       "Customer    April        50.951606\n",
       "            February    145.693538\n",
       "            January      47.344940\n",
       "            June         45.928639\n",
       "            March        52.327286\n",
       "            May          51.257943\n",
       "Subscriber  April        13.512243\n",
       "            February     13.405663\n",
       "            January      15.653387\n",
       "            June         14.547930\n",
       "            March        13.041183\n",
       "            May          13.850506\n",
       "Name: minutes, dtype: float64"
      ]
     },
     "execution_count": 25,
     "metadata": {},
     "output_type": "execute_result"
    }
   ],
   "source": [
    "#Calculate the average ride_length for users by month\n",
    "\n",
    "fin.groupby(['usertype','month'])['minutes'].mean()\n"
   ]
  },
  {
   "cell_type": "code",
   "execution_count": 26,
   "metadata": {},
   "outputs": [
    {
     "data": {
      "text/plain": [
       "usertype    from_station_name                          \n",
       "Customer    2112 W Peterson Ave                            259.649667\n",
       "            63rd St Beach                                  136.272115\n",
       "            900 W Harrison St                               30.979526\n",
       "            Aberdeen St & Jackson Blvd                     207.206638\n",
       "            Aberdeen St & Monroe St                         34.069736\n",
       "            Aberdeen St & Randolph St                       45.383390\n",
       "            Ada St & Washington Blvd                        28.446439\n",
       "            Adler Planetarium                               37.422016\n",
       "            Albany Ave & 26th St                            42.762179\n",
       "            Albany Ave & Bloomingdale Ave                   39.397390\n",
       "            Albany Ave & Montrose Ave                       61.256301\n",
       "            Archer (Damen) Ave & 37th St (*)                45.269048\n",
       "            Artesian Ave & Hubbard St                       20.957226\n",
       "            Ashland Ave & 13th St                           62.134091\n",
       "            Ashland Ave & 21st St                           36.584921\n",
       "            Ashland Ave & 50th St                           88.616667\n",
       "            Ashland Ave & 63rd St                          103.556667\n",
       "            Ashland Ave & 66th St                          113.890000\n",
       "            Ashland Ave & 69th St                           65.478333\n",
       "            Ashland Ave & Archer Ave                        24.452482\n",
       "            Ashland Ave & Augusta Blvd                      47.913978\n",
       "            Ashland Ave & Belle Plaine Ave                  29.378958\n",
       "            Ashland Ave & Blackhawk St                      35.035079\n",
       "            Ashland Ave & Chicago Ave                       31.119988\n",
       "            Ashland Ave & Division St                       40.566611\n",
       "            Ashland Ave & Garfield Blvd                     21.075000\n",
       "            Ashland Ave & Grace St                          53.282303\n",
       "            Ashland Ave & Grand Ave                         50.827096\n",
       "            Ashland Ave & Lake St (Temp)                    36.599665\n",
       "            Ashland Ave & McDowell Ave                     120.075926\n",
       "                                                              ...    \n",
       "Subscriber  Western Ave & Congress Pkwy                     13.918061\n",
       "            Western Ave & Division St                       13.716819\n",
       "            Western Ave & Fillmore St (*)                   13.744755\n",
       "            Western Ave & Granville Ave                     19.616399\n",
       "            Western Ave & Howard St                         10.711917\n",
       "            Western Ave & Leland Ave                        11.444125\n",
       "            Western Ave & Lunt Ave                          11.625641\n",
       "            Western Ave & Monroe St                         14.356140\n",
       "            Western Ave & Roscoe St                         12.860632\n",
       "            Western Ave & Walton St                         14.681104\n",
       "            Western Ave & Winnebago Ave                     13.599467\n",
       "            Western Blvd & 48th Pl                          10.144271\n",
       "            Wilton Ave & Belmont Ave                        10.417272\n",
       "            Wilton Ave & Diversey Pkwy                      10.510526\n",
       "            Winchester (Ravenswood) Ave & Balmoral Ave      13.810991\n",
       "            Winchester Ave & Elston Ave                     15.893586\n",
       "            Winthrop Ave & Lawrence Ave                     12.324616\n",
       "            Wolcott (Ravenswood) Ave & Montrose Ave (*)     13.137271\n",
       "            Wolcott Ave & Fargo Ave                         10.525253\n",
       "            Wolcott Ave & Polk St                           13.566026\n",
       "            Wood St & 35th St                               14.029649\n",
       "            Wood St & Augusta Blvd                          14.206704\n",
       "            Wood St & Chicago Ave (*)                       12.789028\n",
       "            Wood St & Hubbard St                            16.103779\n",
       "            Wood St & Milwaukee Ave                         14.238619\n",
       "            Wood St & Taylor St                             13.281574\n",
       "            Woodlawn Ave & 55th St                           8.272005\n",
       "            Woodlawn Ave & 75th St                          12.716667\n",
       "            Woodlawn Ave & Lake Park Ave                    19.674458\n",
       "            Yates Blvd & 75th St                            15.851190\n",
       "Name: minutes, Length: 1214, dtype: float64"
      ]
     },
     "execution_count": 26,
     "metadata": {},
     "output_type": "execute_result"
    }
   ],
   "source": [
    "fin.groupby(['usertype','from_station_name'])['minutes'].mean()"
   ]
  },
  {
   "cell_type": "code",
   "execution_count": 27,
   "metadata": {},
   "outputs": [],
   "source": [
    "fin.to_csv('q1_q2_2019.csv',index=False)"
   ]
  }
 ],
 "metadata": {
  "kernelspec": {
   "display_name": "Python 3",
   "language": "python",
   "name": "python3"
  },
  "language_info": {
   "codemirror_mode": {
    "name": "ipython",
    "version": 3
   },
   "file_extension": ".py",
   "mimetype": "text/x-python",
   "name": "python",
   "nbconvert_exporter": "python",
   "pygments_lexer": "ipython3",
   "version": "3.7.0"
  }
 },
 "nbformat": 4,
 "nbformat_minor": 2
}
